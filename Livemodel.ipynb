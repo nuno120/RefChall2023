{
  "nbformat": 4,
  "nbformat_minor": 0,
  "metadata": {
    "colab": {
      "provenance": []
    },
    "kernelspec": {
      "name": "python3",
      "display_name": "Python 3"
    },
    "language_info": {
      "name": "python"
    }
  },
  "cells": [
    {
      "cell_type": "markdown",
      "source": [
        "# Imports"
      ],
      "metadata": {
        "id": "GXWwLhCJcuup"
      }
    },
    {
      "cell_type": "code",
      "execution_count": null,
      "metadata": {
        "colab": {
          "base_uri": "https://localhost:8080/"
        },
        "id": "27r6nnMfJjB-",
        "outputId": "16e05317-7c6b-4710-aaa3-5ab8b0e2d56e"
      },
      "outputs": [
        {
          "output_type": "stream",
          "name": "stdout",
          "text": [
            "Mounted at /content/drive\n"
          ]
        }
      ],
      "source": [
        "#libraries\n",
        "import tensorflow as tf\n",
        "import time\n",
        "import numpy as np\n",
        "from matplotlib import pyplot as plt\n",
        "import cv2\n",
        "#Models\n",
        "\n",
        "#skeleton CNN:\n",
        "interpreter = tf.lite.Interpreter(model_path='lite-model_movenet_singlepose_thunder_3.tflite')\n",
        "interpreter.allocate_tensors()\n",
        "\n",
        "# Get input and output details\n",
        "input_details = interpreter.get_input_details()\n",
        "output_details = interpreter.get_output_details()\n",
        "\n",
        "\n",
        "#LSTM\n",
        "model = tf.keras.models.load_model('lstm.h5')"
      ]
    },
    {
      "cell_type": "markdown",
      "source": [
        "# Acces the camera\n"
      ],
      "metadata": {
        "id": "NOk2urYGc05u"
      }
    },
    {
      "cell_type": "code",
      "source": [
        "# Access the webcam\n",
        "cap = cv2.VideoCapture(0)\n",
        "\n",
        "# Define variables\n",
        "num_frames = 2  # Number of frames to capture per second\n",
        "duration = 12  # Duration in seconds\n",
        "total_frames = num_frames * duration\n",
        "\n",
        "# Initialize a list to store the captured frames\n",
        "frames = []\n",
        "\n",
        "# Set start time\n",
        "start_time = time.time()\n",
        "\n",
        "# Loop until desired number of frames is captured\n",
        "while len(frames) < total_frames:\n",
        "    # Capture frame-by-frame\n",
        "    ret, frame = cap.read()\n",
        "\n",
        "    if ret:\n",
        "        # Resize frame to match the input size of the skeleton CNN model\n",
        "        img = cv2.resize(frame, (256, 256))\n",
        "        input_image = tf.cast(img, dtype=tf.float32)\n",
        "        input_image = np.expand_dims(input_image, axis=0)\n",
        "\n",
        "        # Set the frame as the input tensor to the skeleton CNN model\n",
        "        interpreter.set_tensor(input_details[0]['index'], input_data)\n",
        "\n",
        "        # Run inference on the skeleton CNN model\n",
        "        interpreter.invoke()\n",
        "\n",
        "        # Get the output tensor from the skeleton CNN model\n",
        "        output_data = interpreter.get_tensor(output_details[0]['index'])\n",
        "\n",
        "        # Append the output tensor to the list of frames\n",
        "        frames.append(output_data)\n",
        "\n",
        "        # Display the frame (optional)\n",
        "        cv2_imshow(frame)\n",
        "\n",
        "    # Break the loop if the duration has exceeded\n",
        "    if time.time() - start_time > duration:\n",
        "        break\n",
        "\n",
        "# Release the video capture object and close any open windows\n",
        "cap.release()\n",
        "cv2.destroyAllWindows()\n",
        "\n",
        "# Convert the list of frames to a TensorFlow tensor\n",
        "X_test = tf.convert_to_tensor(frames, dtype=tf.float32)\n",
        "\n",
        "# Reshape the tensor to match the LSTM model's input shape\n",
        "X_test = tf.reshape(X_test, (1, total_frames, 34))\n",
        "\n",
        "# Perform inference using the LSTM model\n",
        "predictions = model.predict(X_test)\n",
        "\n",
        "# Print the predictions\n",
        "print(predictions)"
      ],
      "metadata": {
        "id": "UjorRQ1eeFVg"
      },
      "execution_count": null,
      "outputs": []
    }
  ]
}